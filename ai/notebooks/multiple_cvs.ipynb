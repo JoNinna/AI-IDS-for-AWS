{
 "cells": [
  {
   "cell_type": "code",
   "execution_count": 1,
   "id": "5c54a7b8-e07c-4291-a5e8-6fb4825073ce",
   "metadata": {},
   "outputs": [],
   "source": [
    "import os\n",
    "import sys\n",
    "sys.path.append('../utils')\n",
    "sys.path.append('../data')  \n",
    "\n",
    "import glob\n",
    "\n",
    "import numpy as np\n",
    "import pandas as pd\n",
    "\n",
    "from joblib import load, dump\n",
    "\n",
    "from sklearn.linear_model import SGDClassifier\n",
    "from sklearn.preprocessing import LabelEncoder\n",
    "\n",
    "from preprocessing import load_csv_data"
   ]
  },
  {
   "cell_type": "code",
   "execution_count": 2,
   "id": "54d2bb1b-6751-48ca-9d8b-427b16f851fc",
   "metadata": {},
   "outputs": [
    {
     "name": "stdout",
     "output_type": "stream",
     "text": [
      "8 fișiere găsite:\n"
     ]
    }
   ],
   "source": [
    "# Lista de fișiere CSV de procesat\n",
    "# csv_files = [\n",
    "#     '../data/TrafficLabelling/Friday-WorkingHours-Afternoon-DDos.pcap_ISCX.csv',\n",
    "#     '../data/TrafficLabelling/Friday-WorkingHours-Afternoon-PortScan.pcap_ISCX.csv',\n",
    "#     '../data/TrafficLabelling/Friday-WorkingHours-Morning.pcap_ISCX.csv',\n",
    "#     '../data/TrafficLabelling/Monday-WorkingHours.pcap_ISCX.csv',\n",
    "#     '../data/TrafficLabelling/Thursday-WorkingHours-Afternoon-Infilteration.pcap_ISCX.csv',\n",
    "#     '../data/TrafficLabelling/Thursday-WorkingHours-Morning-WebAttacks.pcap_ISCX.csv',\n",
    "#     '../data/TrafficLabelling/Tuesday-WorkingHours.pcap_ISCX.csv',\n",
    "#     '../data/TrafficLabelling/Wednesday-workingHours.pcap_ISCX.csv'\n",
    "# ]\n",
    "csv_files = glob.glob('../data/TrafficLabelling/*')\n",
    "print(f\"{len(csv_files)} fișiere găsite:\")"
   ]
  },
  {
   "cell_type": "code",
   "execution_count": 3,
   "id": "16b95bd2-fcf3-405d-a707-f7abaeedacdf",
   "metadata": {},
   "outputs": [],
   "source": [
    "# Pregătește encoderul pentru labeluri\n",
    "le_label = LabelEncoder()\n",
    "model = SGDClassifier(random_state=42)\n",
    "\n",
    "first_fit = True  # flag pentru primul CSV (unde setăm classes)"
   ]
  },
  {
   "cell_type": "code",
   "execution_count": 4,
   "id": "4d51121b-6773-4b42-8554-5bd6284027c7",
   "metadata": {},
   "outputs": [
    {
     "name": "stdout",
     "output_type": "stream",
     "text": [
      "\n",
      "Procesare fișier: ../data/TrafficLabelling/Thursday-WorkingHours-Afternoon-Infilteration.pcap_ISCX.csv\n"
     ]
    },
    {
     "ename": "NameError",
     "evalue": "name 'csv_path' is not defined",
     "output_type": "error",
     "traceback": [
      "\u001b[31m---------------------------------------------------------------------------\u001b[39m",
      "\u001b[31mNameError\u001b[39m                                 Traceback (most recent call last)",
      "\u001b[36mCell\u001b[39m\u001b[36m \u001b[39m\u001b[32mIn[4]\u001b[39m\u001b[32m, line 7\u001b[39m\n\u001b[32m      4\u001b[39m \u001b[38;5;28mprint\u001b[39m(\u001b[33mf\u001b[39m\u001b[33m\"\u001b[39m\u001b[38;5;130;01m\\n\u001b[39;00m\u001b[33mProcesare fișier: \u001b[39m\u001b[38;5;132;01m{\u001b[39;00mcsv_file\u001b[38;5;132;01m}\u001b[39;00m\u001b[33m\"\u001b[39m)\n\u001b[32m      6\u001b[39m \u001b[38;5;66;03m# Încarcă și curăță\u001b[39;00m\n\u001b[32m----> \u001b[39m\u001b[32m7\u001b[39m df = load_csv_data(\u001b[43mcsv_path\u001b[49m)\n\u001b[32m      8\u001b[39m df.columns = df.columns.str.strip()\n\u001b[32m      9\u001b[39m df.rename(columns={\u001b[33m'\u001b[39m\u001b[33mLabel\u001b[39m\u001b[33m'\u001b[39m: \u001b[33m'\u001b[39m\u001b[33mlabel\u001b[39m\u001b[33m'\u001b[39m}, inplace=\u001b[38;5;28;01mTrue\u001b[39;00m)\n",
      "\u001b[31mNameError\u001b[39m: name 'csv_path' is not defined"
     ]
    }
   ],
   "source": [
    "all_labels_set = set()\n",
    "\n",
    "for csv_file in csv_files:\n",
    "    print(f\"\\nProcesare fișier: {csv_file}\")\n",
    "\n",
    "    # Încarcă și curăță\n",
    "    df = load_csv_data(csv_file)\n",
    "    df.columns = df.columns.str.strip()\n",
    "    df.rename(columns={'Label': 'label'}, inplace=True)\n",
    "    all_labels_set.update(df['label'].unique())\n",
    "\n",
    "\n",
    "    X = df.drop(columns=['label'])\n",
    "    y = df['label']    \n",
    "    #all_labels.extend(y.unique())\n",
    "\n",
    "    X = X.replace([np.inf, -np.inf], np.nan).dropna()\n",
    "    y = y.loc[X.index]\n",
    "\n",
    "    if 'src_ip' in X.columns:\n",
    "        X['src_ip'] = LabelEncoder().fit_transform(X['src_ip'])\n",
    "\n",
    "    X = X.select_dtypes(include=['number'])\n",
    "\n",
    "    if first_fit:\n",
    "        y = le_label.fit_transform(y)\n",
    "        model.partial_fit(X, y, classes=np.unique(y))  # doar o dată\n",
    "        first_fit = False\n",
    "    else:\n",
    "        y = le_label.transform(y)\n",
    "        model.partial_fit(X, y)\n",
    "\n",
    "    print(f\"Antrenat pe {len(X)} instanțe.\")\n",
    "    \n",
    "#all_labels = list(set(all_labels))  # elimină duplicatele\n",
    "\n",
    "le_label = LabelEncoder()\n",
    "le_label.fit(list(all_labels_set))"
   ]
  },
  {
   "cell_type": "code",
   "execution_count": 22,
   "id": "3c9ce44b-70b5-4adb-8c16-992d4e66b116",
   "metadata": {},
   "outputs": [
    {
     "name": "stdout",
     "output_type": "stream",
     "text": [
      "\n",
      " Modelul incremental a fost complet antrenat și salvat.\n"
     ]
    }
   ],
   "source": [
    "# Salvează modelul și encoderul\n",
    "dump(model, '../models/model_sgd_cicids.joblib')\n",
    "dump(le_label, '../models/label_encoder.joblib')\n",
    "dump(model, '../models/model_sgd_cicids.pt')\n",
    "print(\"\\n Modelul incremental a fost complet antrenat și salvat.\")"
   ]
  }
 ],
 "metadata": {
  "kernelspec": {
   "display_name": "Python 3 (ipykernel)",
   "language": "python",
   "name": "python3"
  },
  "language_info": {
   "codemirror_mode": {
    "name": "ipython",
    "version": 3
   },
   "file_extension": ".py",
   "mimetype": "text/x-python",
   "name": "python",
   "nbconvert_exporter": "python",
   "pygments_lexer": "ipython3",
   "version": "3.12.6"
  }
 },
 "nbformat": 4,
 "nbformat_minor": 5
}
