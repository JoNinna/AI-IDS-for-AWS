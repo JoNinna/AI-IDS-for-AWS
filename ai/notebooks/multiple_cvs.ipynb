{
 "cells": [
  {
   "cell_type": "code",
   "execution_count": 1,
   "id": "5c54a7b8-e07c-4291-a5e8-6fb4825073ce",
   "metadata": {},
   "outputs": [],
   "source": [
    "import os\n",
    "import sys\n",
    "sys.path.append('../utils')\n",
    "sys.path.append('../data')  \n",
    "\n",
    "import glob\n",
    "\n",
    "import numpy as np\n",
    "import pandas as pd\n",
    "\n",
    "from joblib import load, dump\n",
    "\n",
    "from sklearn.linear_model import SGDClassifier\n",
    "from sklearn.preprocessing import LabelEncoder\n",
    "\n",
    "from preprocessing import load_csv_data"
   ]
  },
  {
   "cell_type": "code",
   "execution_count": 2,
   "id": "54d2bb1b-6751-48ca-9d8b-427b16f851fc",
   "metadata": {},
   "outputs": [
    {
     "name": "stdout",
     "output_type": "stream",
     "text": [
      "8 fișiere găsite:\n"
     ]
    }
   ],
   "source": [
    "# Lista de fișiere CSV de procesat\n",
    "csv_files = glob.glob('../data/TrafficLabelling/*')\n",
    "print(f\"{len(csv_files)} fișiere găsite:\")"
   ]
  },
  {
   "cell_type": "code",
   "execution_count": 3,
   "id": "16b95bd2-fcf3-405d-a707-f7abaeedacdf",
   "metadata": {},
   "outputs": [],
   "source": [
    "# Pregătește encoderul pentru labeluri\n",
    "le_label = LabelEncoder()\n",
    "model = SGDClassifier(random_state=42)\n",
    "\n",
    "first_fit = True  # flag pentru primul CSV (unde setăm classes)"
   ]
  },
  {
   "cell_type": "code",
   "execution_count": 4,
   "id": "a6bb3d20-5bb2-4b82-8a0d-67a70cc5ffa4",
   "metadata": {},
   "outputs": [
    {
     "name": "stdout",
     "output_type": "stream",
     "text": [
      "\n",
      "Procesare fișier: ../data/TrafficLabelling/Thursday-WorkingHours-Afternoon-Infilteration.pcap_ISCX.csv\n",
      "Antrenat pe 288395 instanțe.\n",
      "\n",
      "Procesare fișier: ../data/TrafficLabelling/Monday-WorkingHours.pcap_ISCX.csv\n",
      "Antrenat pe 529481 instanțe.\n",
      "\n",
      "Procesare fișier: ../data/TrafficLabelling/Friday-WorkingHours-Morning.pcap_ISCX.csv\n",
      "Antrenat pe 190911 instanțe.\n",
      "\n",
      "Procesare fișier: ../data/TrafficLabelling/Friday-WorkingHours-Afternoon-PortScan.pcap_ISCX.csv\n",
      "Antrenat pe 286096 instanțe.\n",
      "\n",
      "Procesare fișier: ../data/TrafficLabelling/Friday-WorkingHours-Afternoon-DDos.pcap_ISCX.csv\n",
      "Antrenat pe 225711 instanțe.\n",
      "\n",
      "Procesare fișier: ../data/TrafficLabelling/Tuesday-WorkingHours.pcap_ISCX.csv\n",
      "Antrenat pe 445645 instanțe.\n",
      "\n",
      "Procesare fișier: ../data/TrafficLabelling/Wednesday-workingHours.pcap_ISCX.csv\n",
      "Antrenat pe 691406 instanțe.\n",
      "\n",
      "Procesare fișier: ../data/TrafficLabelling/Thursday-WorkingHours-Morning-WebAttacks.pcap_ISCX.csv\n",
      "Antrenat pe 170231 instanțe.\n"
     ]
    }
   ],
   "source": [
    "all_labels_set = set()\n",
    "\n",
    "# Colectează toate etichetele din toate fișierele\n",
    "for csv_file in csv_files:\n",
    "    df = load_csv_data(csv_file)\n",
    "    df.columns = df.columns.str.strip()\n",
    "    df.rename(columns={'Label': 'label'}, inplace=True)\n",
    "    all_labels_set.update(df['label'].unique())\n",
    "\n",
    "# Inițializează encoderul și antrenează-l pe TOATE etichetele\n",
    "le_label = LabelEncoder()\n",
    "le_label.fit(list(all_labels_set))\n",
    "\n",
    "first_fit = True  # dacă nu era definit\n",
    "\n",
    "# Reîncepe bucla pentru procesare și antrenare\n",
    "for csv_file in csv_files:\n",
    "    print(f\"\\nProcesare fișier: {csv_file}\")\n",
    "\n",
    "    df = load_csv_data(csv_file)\n",
    "    df.columns = df.columns.str.strip()\n",
    "    df.rename(columns={'Label': 'label'}, inplace=True)\n",
    "\n",
    "    X = df.drop(columns=['label'])\n",
    "    y = df['label']\n",
    "\n",
    "    X = X.replace([np.inf, -np.inf], np.nan).dropna()\n",
    "    y = y.loc[X.index]\n",
    "\n",
    "    if 'src_ip' in X.columns:\n",
    "        X['src_ip'] = LabelEncoder().fit_transform(X['src_ip'])\n",
    "\n",
    "    X = X.select_dtypes(include=['number'])\n",
    "    y = le_label.transform(y)\n",
    "\n",
    "    if first_fit:\n",
    "        model.partial_fit(X, y, classes=le_label.transform(le_label.classes_))\n",
    "        first_fit = False\n",
    "    else:\n",
    "        model.partial_fit(X, y)\n",
    "\n",
    "    print(f\"Antrenat pe {len(X)} instanțe.\")"
   ]
  },
  {
   "cell_type": "code",
   "execution_count": 5,
   "id": "3c9ce44b-70b5-4adb-8c16-992d4e66b116",
   "metadata": {},
   "outputs": [
    {
     "name": "stdout",
     "output_type": "stream",
     "text": [
      "\n",
      " Modelul incremental a fost complet antrenat și salvat.\n"
     ]
    }
   ],
   "source": [
    "# Salvează modelul și encoderul\n",
    "dump(model, '../models/model_sgd_cicids.joblib')\n",
    "dump(le_label, '../models/label_encoder.joblib')\n",
    "dump(model, '../models/model_sgd_cicids.pt')\n",
    "print(\"\\n Modelul incremental a fost complet antrenat și salvat.\")"
   ]
  },
  {
   "cell_type": "code",
   "execution_count": null,
   "id": "ea3e0385-11b2-4f3c-b8fd-be335a337c27",
   "metadata": {},
   "outputs": [],
   "source": []
  }
 ],
 "metadata": {
  "kernelspec": {
   "display_name": "Python 3 (ipykernel)",
   "language": "python",
   "name": "python3"
  },
  "language_info": {
   "codemirror_mode": {
    "name": "ipython",
    "version": 3
   },
   "file_extension": ".py",
   "mimetype": "text/x-python",
   "name": "python",
   "nbconvert_exporter": "python",
   "pygments_lexer": "ipython3",
   "version": "3.12.6"
  }
 },
 "nbformat": 4,
 "nbformat_minor": 5
}
