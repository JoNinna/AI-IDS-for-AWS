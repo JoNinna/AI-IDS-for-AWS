{
 "cells": [
  {
   "cell_type": "code",
   "execution_count": 2,
   "id": "6815f756",
   "metadata": {},
   "outputs": [],
   "source": [
    "import os\n",
    "import sys\n",
    "sys.path.append('../utils') \n",
    "\n",
    "from preprocessing import load_json_logs, preprocess_dataframe\n",
    "from model import train_random_forest, save_model"
   ]
  },
  {
   "cell_type": "code",
   "execution_count": 3,
   "id": "f4d4d5b8",
   "metadata": {},
   "outputs": [],
   "source": [
    "DATA_PATH = '../data/suricata/suricata-202505212207.json' \n",
    "MODEL_OUTPUT_PATH = '../models/model_suricata.pkl'\n",
    "LABEL_FIELD = 'label'  "
   ]
  },
  {
   "cell_type": "code",
   "execution_count": 4,
   "id": "0befe01b",
   "metadata": {},
   "outputs": [
    {
     "ename": "FileNotFoundError",
     "evalue": "[Errno 2] No such file or directory: '../data/suricata/suricata-202505142037.json'",
     "output_type": "error",
     "traceback": [
      "\u001b[31m---------------------------------------------------------------------------\u001b[39m",
      "\u001b[31mFileNotFoundError\u001b[39m                         Traceback (most recent call last)",
      "\u001b[36mCell\u001b[39m\u001b[36m \u001b[39m\u001b[32mIn[4]\u001b[39m\u001b[32m, line 2\u001b[39m\n\u001b[32m      1\u001b[39m \u001b[38;5;66;03m# Încarcă și preprocesează datele\u001b[39;00m\n\u001b[32m----> \u001b[39m\u001b[32m2\u001b[39m df = \u001b[43mload_json_logs\u001b[49m\u001b[43m(\u001b[49m\u001b[43mDATA_PATH\u001b[49m\u001b[43m)\u001b[49m\n\u001b[32m      3\u001b[39m df, encoders, label_encoder = preprocess_dataframe(df, label_field=LABEL_FIELD)\n",
      "\u001b[36mFile \u001b[39m\u001b[32m~/Documents/projects/AI-IDS-for-AWS/ai/notebooks/../utils/preprocessing.py:7\u001b[39m, in \u001b[36mload_json_logs\u001b[39m\u001b[34m(file_path)\u001b[39m\n\u001b[32m      5\u001b[39m \u001b[38;5;28;01mdef\u001b[39;00m\u001b[38;5;250m \u001b[39m\u001b[34mload_json_logs\u001b[39m(file_path):\n\u001b[32m      6\u001b[39m \u001b[38;5;250m    \u001b[39m\u001b[33;03m\"\"\"Load a JSON log file with one JSON object per line.\"\"\"\u001b[39;00m\n\u001b[32m----> \u001b[39m\u001b[32m7\u001b[39m     \u001b[38;5;28;01mwith\u001b[39;00m \u001b[38;5;28;43mopen\u001b[39;49m\u001b[43m(\u001b[49m\u001b[43mfile_path\u001b[49m\u001b[43m,\u001b[49m\u001b[43m \u001b[49m\u001b[33;43m'\u001b[39;49m\u001b[33;43mr\u001b[39;49m\u001b[33;43m'\u001b[39;49m\u001b[43m)\u001b[49m \u001b[38;5;28;01mas\u001b[39;00m f:\n\u001b[32m      8\u001b[39m         lines = [json.loads(line) \u001b[38;5;28;01mfor\u001b[39;00m line \u001b[38;5;129;01min\u001b[39;00m f \u001b[38;5;28;01mif\u001b[39;00m line.strip()]\n\u001b[32m      9\u001b[39m     \u001b[38;5;28;01mreturn\u001b[39;00m pd.DataFrame(lines)\n",
      "\u001b[31mFileNotFoundError\u001b[39m: [Errno 2] No such file or directory: '../data/suricata/suricata-202505142037.json'"
     ]
    }
   ],
   "source": [
    "# Încarcă și preprocesează datele\n",
    "df = load_json_logs(DATA_PATH)\n",
    "df, encoders, label_encoder = preprocess_dataframe(df, label_field=LABEL_FIELD)"
   ]
  },
  {
   "cell_type": "code",
   "execution_count": null,
   "id": "00354f0d",
   "metadata": {},
   "outputs": [],
   "source": [
    "# Separare features și label\n",
    "X = df.drop(columns=[LABEL_FIELD])\n",
    "y = df[LABEL_FIELD]"
   ]
  },
  {
   "cell_type": "code",
   "execution_count": null,
   "id": "e342d742",
   "metadata": {},
   "outputs": [],
   "source": [
    "# Antrenare model\n",
    "model = train_random_forest(X, y)"
   ]
  },
  {
   "cell_type": "code",
   "execution_count": null,
   "id": "111b09e3",
   "metadata": {},
   "outputs": [],
   "source": [
    "# Salvare model\n",
    "os.makedirs(os.path.dirname(MODEL_OUTPUT_PATH), exist_ok=True)\n",
    "save_model(model, MODEL_OUTPUT_PATH)"
   ]
  },
  {
   "cell_type": "code",
   "execution_count": null,
   "id": "3d9dab89",
   "metadata": {},
   "outputs": [],
   "source": [
    "# Confirmare\n",
    "print(f\"Modelul Suricata a fost salvat la: {MODEL_OUTPUT_PATH}\")"
   ]
  }
 ],
 "metadata": {
  "kernelspec": {
   "display_name": "Python 3 (ipykernel)",
   "language": "python",
   "name": "python3"
  },
  "language_info": {
   "codemirror_mode": {
    "name": "ipython",
    "version": 3
   },
   "file_extension": ".py",
   "mimetype": "text/x-python",
   "name": "python",
   "nbconvert_exporter": "python",
   "pygments_lexer": "ipython3",
   "version": "3.12.6"
  }
 },
 "nbformat": 4,
 "nbformat_minor": 5
}
