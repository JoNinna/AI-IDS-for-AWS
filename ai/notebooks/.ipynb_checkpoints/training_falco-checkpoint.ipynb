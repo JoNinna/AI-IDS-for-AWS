{
 "cells": [
  {
   "cell_type": "code",
   "execution_count": 1,
   "id": "76269a93",
   "metadata": {},
   "outputs": [],
   "source": [
    "import os\n",
    "import sys\n",
    "sys.path.append('../data') \n",
    "sys.path.append('../models') \n",
    "\n",
    "import json\n",
    "import joblib\n",
    "\n",
    "import numpy as np\n",
    "import pandas as pd\n",
    "\n",
    "from sklearn.linear_model import SGDClassifier"
   ]
  },
  {
   "cell_type": "code",
   "execution_count": 2,
   "id": "d85e4014-39e6-45e9-8f3f-ac44957da423",
   "metadata": {},
   "outputs": [],
   "source": [
    "# Căile către modelul și encoderul salvate anterior\n",
    "MODEL_PATH = \"../models/model_sgd_cicids.joblib\"\n",
    "model = joblib.load(MODEL_PATH)"
   ]
  },
  {
   "cell_type": "code",
   "execution_count": 3,
   "id": "bac64cc5-a13f-4cef-af0f-cebc7b13c086",
   "metadata": {},
   "outputs": [],
   "source": [
    "# Încarcă datele JSON\n",
    "JSON_FILE = \"../data/falco/falco-202505212206.json\"\n",
    "labels = []"
   ]
  },
  {
   "cell_type": "code",
   "execution_count": 4,
   "id": "ead762e3-484e-4e57-ae6d-1701e7a24248",
   "metadata": {},
   "outputs": [],
   "source": [
    "with open(JSON_FILE) as f:\n",
    "    for line in f:\n",
    "        try:\n",
    "            entry = json.loads(line.strip())\n",
    "            if \"label\" in entry:\n",
    "                labels.append(entry[\"label\"])\n",
    "        except json.JSONDecodeError:\n",
    "            continue"
   ]
  },
  {
   "cell_type": "code",
   "execution_count": 5,
   "id": "52efc0ea-af46-4d19-a51e-bf11924fd093",
   "metadata": {},
   "outputs": [],
   "source": [
    "# Creează input dummy cu același număr de feature-uri ca modelul original\n",
    "n_samples = len(labels)\n",
    "n_features = model.n_features_in_\n",
    "X_dummy = pd.DataFrame(np.zeros((n_samples, n_features)), columns=model.feature_names_in_)"
   ]
  },
  {
   "cell_type": "code",
   "execution_count": 6,
   "id": "a8d25aa9-7491-4979-9d9c-2897d39d3d16",
   "metadata": {},
   "outputs": [
    {
     "name": "stderr",
     "output_type": "stream",
     "text": [
      "/Library/Frameworks/Python.framework/Versions/3.12/lib/python3.12/site-packages/sklearn/utils/validation.py:2739: UserWarning: X does not have valid feature names, but SGDClassifier was fitted with feature names\n",
      "  warnings.warn(\n"
     ]
    }
   ],
   "source": [
    "# Predicție binară cu modelul existent\n",
    "predicted_labels = model.predict(X_dummy)"
   ]
  },
  {
   "cell_type": "code",
   "execution_count": 7,
   "id": "de475e27-7553-4ba7-8949-62e138aa3eef",
   "metadata": {},
   "outputs": [
    {
     "name": "stdout",
     "output_type": "stream",
     "text": [
      "Real: 1, Predicted: 1\n",
      "Real: 0, Predicted: 1\n",
      "Real: 0, Predicted: 1\n",
      "\n",
      "Acuratețea estimată: 33.33%\n"
     ]
    }
   ],
   "source": [
    "# Compară etichetele reale cu predicțiile\n",
    "for i in range(min(10, n_samples)):  # primele 10 exemple\n",
    "    print(f\"Real: {labels[i]}, Predicted: {predicted_labels[i]}\")\n",
    "\n",
    "# Calculează acuratețea\n",
    "accuracy = (predicted_labels == labels).mean()\n",
    "print(f\"\\nAcuratețea estimată: {accuracy:.2%}\")"
   ]
  }
 ],
 "metadata": {
  "kernelspec": {
   "display_name": "Python 3 (ipykernel)",
   "language": "python",
   "name": "python3"
  },
  "language_info": {
   "codemirror_mode": {
    "name": "ipython",
    "version": 3
   },
   "file_extension": ".py",
   "mimetype": "text/x-python",
   "name": "python",
   "nbconvert_exporter": "python",
   "pygments_lexer": "ipython3",
   "version": "3.12.6"
  }
 },
 "nbformat": 4,
 "nbformat_minor": 5
}
