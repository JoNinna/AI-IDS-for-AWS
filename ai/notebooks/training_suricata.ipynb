{
 "cells": [
  {
   "cell_type": "code",
   "execution_count": null,
   "id": "6815f756",
   "metadata": {},
   "outputs": [],
   "source": [
    "import os\n",
    "import sys\n",
    "sys.path.append('../utils') \n",
    "import joblib\n",
    "\n",
    "from preprocessing import load_cicids_csv, preprocess_cicids\n",
    "from model import train_incremental_model, save_model"
   ]
  },
  {
   "cell_type": "code",
   "execution_count": null,
   "id": "b0be3fa0",
   "metadata": {},
   "outputs": [],
   "source": [
    "# Calea către date și model\n",
    "DATA_PATH = '../data/TrafficLabelling/Friday-WorkingHours-Afternoon-DDos.pcap_ISCX'\n",
    "MODEL_OUTPUT_PATH = '../models/model_cicids.pt'\n",
    "LABEL_ENCODER_PATH = '../models/label_encoder_cicids.pkl'"
   ]
  },
  {
   "cell_type": "code",
   "execution_count": null,
   "id": "f4d4d5b8",
   "metadata": {},
   "outputs": [],
   "source": [
    "# Încarcă și preprocesează CICIDS\n",
    "df = load_cicids_csv(DATA_PATH)\n",
    "X, y = preprocess_cicids(df)"
   ]
  },
  {
   "cell_type": "code",
   "execution_count": null,
   "id": "a4c3015f-55aa-418b-aad9-4693e63f9a32",
   "metadata": {},
   "outputs": [],
   "source": [
    "# Verificare labeluri\n",
    "print(\"Exemple de labeluri:\", set(y))"
   ]
  },
  {
   "cell_type": "code",
   "execution_count": null,
   "id": "e5543cdf-a36a-4a7f-b2c0-1c1b90140fc0",
   "metadata": {},
   "outputs": [],
   "source": [
    "# Obține toate clasele unice – necesar pentru partial_fit inițial\n",
    "classes = sorted(set(y))"
   ]
  },
  {
   "cell_type": "code",
   "execution_count": null,
   "id": "6283c289-f4ca-4d07-8fb6-2b51114f0726",
   "metadata": {},
   "outputs": [],
   "source": [
    "# Antrenează modelul incremental\n",
    "model = train_incremental_model(X, y, classes=classes)"
   ]
  },
  {
   "cell_type": "code",
   "execution_count": null,
   "id": "00354f0d",
   "metadata": {},
   "outputs": [],
   "source": [
    "# Creează directorul dacă nu există\n",
    "os.makedirs(os.path.dirname(MODEL_OUTPUT_PATH), exist_ok=True)"
   ]
  },
  {
   "cell_type": "code",
   "execution_count": null,
   "id": "e342d742",
   "metadata": {},
   "outputs": [],
   "source": [
    "# Salvează modelul\n",
    "save_model(model, MODEL_OUTPUT_PATH)"
   ]
  },
  {
   "cell_type": "code",
   "execution_count": null,
   "id": "111b09e3",
   "metadata": {},
   "outputs": [],
   "source": [
    "# Salvează și encoderul labelurilor dacă l-ai folosit separat (aici presupunem că y este deja numeric)\n",
    "joblib.dump(classes, LABEL_ENCODER_PATH)"
   ]
  },
  {
   "cell_type": "code",
   "execution_count": 24,
   "id": "3d9dab89",
   "metadata": {},
   "outputs": [
    {
     "name": "stdout",
     "output_type": "stream",
     "text": [
      "Modelul Suricata a fost salvat la: ../models/model_suricata.pt\n"
     ]
    }
   ],
   "source": [
    "# Confirmare\n",
    "print(f\"Modelul Suricata a fost salvat la: {MODEL_OUTPUT_PATH}\")"
   ]
  }
 ],
 "metadata": {
  "kernelspec": {
   "display_name": "Python 3 (ipykernel)",
   "language": "python",
   "name": "python3"
  },
  "language_info": {
   "codemirror_mode": {
    "name": "ipython",
    "version": 3
   },
   "file_extension": ".py",
   "mimetype": "text/x-python",
   "name": "python",
   "nbconvert_exporter": "python",
   "pygments_lexer": "ipython3",
   "version": "3.12.6"
  }
 },
 "nbformat": 4,
 "nbformat_minor": 5
}
