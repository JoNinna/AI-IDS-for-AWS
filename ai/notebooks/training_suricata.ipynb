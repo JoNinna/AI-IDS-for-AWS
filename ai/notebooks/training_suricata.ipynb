{
 "cells": [
  {
   "cell_type": "code",
   "execution_count": 1,
   "id": "6815f756",
   "metadata": {},
   "outputs": [],
   "source": [
    "import os\n",
    "import sys\n",
    "sys.path.append('../data') \n",
    "sys.path.append('../models') \n",
    "\n",
    "import json\n",
    "import joblib\n",
    "\n",
    "import numpy as np\n",
    "\n",
    "from sklearn.linear_model import SGDClassifier"
   ]
  },
  {
   "cell_type": "code",
   "execution_count": 2,
   "id": "b0be3fa0",
   "metadata": {},
   "outputs": [],
   "source": [
    "# Căile către modelul și encoderul salvate anterior\n",
    "MODEL_PATH = \"../models/model_sgd_cicids.joblib\"\n",
    "model = joblib.load(MODEL_PATH)"
   ]
  },
  {
   "cell_type": "code",
   "execution_count": 3,
   "id": "71583e34-9d58-4a45-8910-95edc9a90ebf",
   "metadata": {},
   "outputs": [],
   "source": [
    "# Încarcă datele JSON\n",
    "JSON_FILE = \"../data/suricata/suricata-202505290125.json\"\n",
    "labels = []"
   ]
  },
  {
   "cell_type": "code",
   "execution_count": 4,
   "id": "94b83d18-7454-4630-b8f6-1fb72c160482",
   "metadata": {},
   "outputs": [],
   "source": [
    "with open(JSON_FILE) as f:\n",
    "    for line in f:\n",
    "        try:\n",
    "            entry = json.loads(line.strip())\n",
    "            if \"label\" in entry:\n",
    "                labels.append(entry[\"label\"])\n",
    "        except json.JSONDecodeError:\n",
    "            continue"
   ]
  },
  {
   "cell_type": "code",
   "execution_count": 5,
   "id": "368138e0-6426-4d5d-a667-5e37ab55827c",
   "metadata": {},
   "outputs": [],
   "source": [
    "# Creează input dummy cu același număr de feature-uri ca modelul original\n",
    "n_samples = len(labels)\n",
    "n_features = model.n_features_in_\n",
    "X_dummy = np.zeros((n_samples, n_features))"
   ]
  },
  {
   "cell_type": "code",
   "execution_count": 6,
   "id": "430c1939-46e9-4d16-b2ec-8a9ca24ad6d9",
   "metadata": {},
   "outputs": [
    {
     "name": "stderr",
     "output_type": "stream",
     "text": [
      "/Library/Frameworks/Python.framework/Versions/3.12/lib/python3.12/site-packages/sklearn/utils/validation.py:2739: UserWarning: X does not have valid feature names, but SGDClassifier was fitted with feature names\n",
      "  warnings.warn(\n"
     ]
    }
   ],
   "source": [
    "# Predicție binară cu modelul existent\n",
    "predicted_labels = model.predict(X_dummy)"
   ]
  },
  {
   "cell_type": "code",
   "execution_count": 7,
   "id": "89f5260d-53b1-43a2-ae4e-7b377a23999a",
   "metadata": {},
   "outputs": [
    {
     "name": "stdout",
     "output_type": "stream",
     "text": [
      "Real: 0, Predicted: 1\n",
      "Real: 1, Predicted: 1\n",
      "Real: 0, Predicted: 1\n",
      "Real: 1, Predicted: 1\n",
      "Real: 1, Predicted: 1\n",
      "Real: 0, Predicted: 1\n",
      "Real: 1, Predicted: 1\n",
      "Real: 0, Predicted: 1\n",
      "Real: 1, Predicted: 1\n",
      "\n",
      "Acuratețea estimată: 55.56%\n"
     ]
    }
   ],
   "source": [
    "# Compară etichetele reale cu predicțiile\n",
    "for i in range(min(10, n_samples)):  # primele 10 exemple\n",
    "    print(f\"Real: {labels[i]}, Predicted: {predicted_labels[i]}\")\n",
    "\n",
    "# Calculează acuratețea\n",
    "accuracy = (predicted_labels == labels).mean()\n",
    "print(f\"\\nAcuratețea estimată: {accuracy:.2%}\")"
   ]
  }
 ],
 "metadata": {
  "kernelspec": {
   "display_name": "Python 3 (ipykernel)",
   "language": "python",
   "name": "python3"
  },
  "language_info": {
   "codemirror_mode": {
    "name": "ipython",
    "version": 3
   },
   "file_extension": ".py",
   "mimetype": "text/x-python",
   "name": "python",
   "nbconvert_exporter": "python",
   "pygments_lexer": "ipython3",
   "version": "3.12.6"
  }
 },
 "nbformat": 4,
 "nbformat_minor": 5
}
