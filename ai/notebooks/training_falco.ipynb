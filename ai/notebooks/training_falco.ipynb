{
 "cells": [
  {
   "cell_type": "code",
   "execution_count": 1,
   "id": "76269a93",
   "metadata": {},
   "outputs": [],
   "source": [
    "import os\n",
    "import sys\n",
    "sys.path.append('../utils') \n",
    "\n",
    "from preprocessing import load_json_logs, preprocess_dataframe\n",
    "from model import train_random_forest, save_model"
   ]
  },
  {
   "cell_type": "code",
   "execution_count": 31,
   "id": "84613030",
   "metadata": {},
   "outputs": [],
   "source": [
    "DATA_PATH = '../data/falco/falco-202505212206.json'  \n",
    "MODEL_OUTPUT_PATH = '../models/model_falco.pt'\n",
    "LABEL_FIELD = 'label' "
   ]
  },
  {
   "cell_type": "code",
   "execution_count": 32,
   "id": "c3bf1e9a-74b9-4bd9-8e42-ebac5ce655ce",
   "metadata": {
    "scrolled": true
   },
   "outputs": [],
   "source": [
    "# Încarcă și preprocesează datele\n",
    "df = load_json_logs(DATA_PATH)"
   ]
  },
  {
   "cell_type": "code",
   "execution_count": 33,
   "id": "35a9c52d-d9f1-4559-8a84-27761045f1a6",
   "metadata": {
    "scrolled": true
   },
   "outputs": [],
   "source": [
    "df_raw = df.copy()  # păstrăm originalul\n",
    "df_encoded, encoders, label_encoder = preprocess_dataframe(df_raw, label_field=None)"
   ]
  },
  {
   "cell_type": "code",
   "execution_count": 34,
   "id": "53960f45-746c-429b-9115-a513dde9616a",
   "metadata": {},
   "outputs": [],
   "source": [
    "# Adaugă coloana 'label' înapoi, manual, dacă a dispărut\n",
    "if LABEL_FIELD in df_raw.columns:\n",
    "    df_encoded[LABEL_FIELD] = df_raw[LABEL_FIELD].values"
   ]
  },
  {
   "cell_type": "code",
   "execution_count": 35,
   "id": "f36079cc-6b02-446e-aeec-7526554c6257",
   "metadata": {
    "scrolled": true
   },
   "outputs": [
    {
     "name": "stdout",
     "output_type": "stream",
     "text": [
      "['timestamp', 'priority', 'rule', 'output', 'label']\n"
     ]
    }
   ],
   "source": [
    "print(df.columns.tolist())\n",
    "LABEL_FIELD = 'label'  "
   ]
  },
  {
   "cell_type": "code",
   "execution_count": 36,
   "id": "8dbe1837",
   "metadata": {},
   "outputs": [],
   "source": [
    "# Separare features și label\n",
    "X = df_encoded.drop(columns=[LABEL_FIELD])\n",
    "y = df_encoded[LABEL_FIELD]"
   ]
  },
  {
   "cell_type": "code",
   "execution_count": 37,
   "id": "72341864-c693-40c8-bd53-8f84080e9574",
   "metadata": {},
   "outputs": [
    {
     "name": "stdout",
     "output_type": "stream",
     "text": [
      "X shape: (3, 4)\n",
      "y shape: (3,)\n",
      "X head:\n",
      "   timestamp  priority  rule  output\n",
      "0          0         1     2       0\n",
      "1          1         0     1       1\n",
      "2          2         1     0       2\n",
      "y head:\n",
      "0    1\n",
      "1    0\n",
      "2    0\n",
      "Name: label, dtype: int64\n"
     ]
    }
   ],
   "source": [
    "print(\"X shape:\", X.shape)\n",
    "print(\"y shape:\", y.shape)\n",
    "print(\"X head:\")\n",
    "print(X.head())\n",
    "print(\"y head:\")\n",
    "print(y.head())"
   ]
  },
  {
   "cell_type": "code",
   "execution_count": 38,
   "id": "6e9baec0",
   "metadata": {},
   "outputs": [],
   "source": [
    "# Antrenare model\n",
    "model = train_random_forest(X, y)"
   ]
  },
  {
   "cell_type": "code",
   "execution_count": 39,
   "id": "d67ff06d",
   "metadata": {},
   "outputs": [],
   "source": [
    "# Salvare model\n",
    "os.makedirs(os.path.dirname(MODEL_OUTPUT_PATH), exist_ok=True)\n",
    "save_model(model, MODEL_OUTPUT_PATH)"
   ]
  },
  {
   "cell_type": "code",
   "execution_count": 40,
   "id": "1aec7658",
   "metadata": {},
   "outputs": [
    {
     "name": "stdout",
     "output_type": "stream",
     "text": [
      "Modelul Falco a fost salvat la: ../models/model_falco.pt\n"
     ]
    }
   ],
   "source": [
    "# Confirmare\n",
    "print(f\"Modelul Falco a fost salvat la: {MODEL_OUTPUT_PATH}\")"
   ]
  },
  {
   "cell_type": "code",
   "execution_count": null,
   "id": "c1203018-b1b3-462b-9804-bb3532f27621",
   "metadata": {},
   "outputs": [],
   "source": []
  },
  {
   "cell_type": "code",
   "execution_count": null,
   "id": "d8aea727-e099-4e21-9d85-e8325ed9021c",
   "metadata": {},
   "outputs": [],
   "source": []
  },
  {
   "cell_type": "code",
   "execution_count": null,
   "id": "1e21506b-dc08-4e17-9483-6c5d71c59463",
   "metadata": {},
   "outputs": [],
   "source": []
  }
 ],
 "metadata": {
  "kernelspec": {
   "display_name": "Python 3 (ipykernel)",
   "language": "python",
   "name": "python3"
  },
  "language_info": {
   "codemirror_mode": {
    "name": "ipython",
    "version": 3
   },
   "file_extension": ".py",
   "mimetype": "text/x-python",
   "name": "python",
   "nbconvert_exporter": "python",
   "pygments_lexer": "ipython3",
   "version": "3.12.6"
  }
 },
 "nbformat": 4,
 "nbformat_minor": 5
}
