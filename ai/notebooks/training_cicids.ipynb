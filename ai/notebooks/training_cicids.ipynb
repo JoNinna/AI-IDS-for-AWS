{
 "cells": [
  {
   "cell_type": "code",
   "execution_count": 48,
   "id": "eb099acc",
   "metadata": {
    "vscode": {
     "languageId": "plaintext"
    }
   },
   "outputs": [],
   "source": [
    "import os\n",
    "import sys\n",
    "sys.path.append('../utils')\n",
    "os.makedirs('models', exist_ok=True)\n",
    "\n",
    "import joblib\n",
    "import pandas as pd\n",
    "import numpy as np\n",
    "from sklearn.impute import SimpleImputer\n",
    "from sklearn.preprocessing import LabelEncoder\n",
    "\n",
    "from preprocessing import load_cicids_csv, preprocess_cicids\n",
    "from model import train_incremental_model, save_model"
   ]
  },
  {
   "cell_type": "code",
   "execution_count": 49,
   "id": "a63d204e-3630-4b60-b9a3-bcc172fa904b",
   "metadata": {
    "vscode": {
     "languageId": "plaintext"
    }
   },
   "outputs": [],
   "source": [
    "DATA_PATH = '../data/TrafficLabelling/Friday-WorkingHours-Afternoon-DDos.pcap_ISCX.csv'  \n",
    "MODEL_OUTPUT_PATH = '../models/model_cicids.pt'              # model scikit-learn salvat cu joblib\n",
    "LABEL_ENCODER_PATH = '../models/label_encoder_cicids.pkl'    # salveaza LabelEncoder\n",
    "CLASSES_PATH = '../models/classes_cicids.pkl'"
   ]
  },
  {
   "cell_type": "code",
   "execution_count": 50,
   "id": "6bf98b2f-5516-486a-87ed-e80a76b857df",
   "metadata": {
    "vscode": {
     "languageId": "plaintext"
    }
   },
   "outputs": [
    {
     "data": {
      "text/plain": [
       "['models/feature_names.pkl']"
      ]
     },
     "execution_count": 50,
     "metadata": {},
     "output_type": "execute_result"
    }
   ],
   "source": [
    "# Etichetare exemplu\n",
    "labels = [\"normal\", \"attack\", \"normal\", \"attack\"]\n",
    "\n",
    "# 1. Creezi obiectul\n",
    "label_encoder = LabelEncoder()\n",
    "\n",
    "# 2. Îl antrenezi\n",
    "label_encoder.fit(labels)\n",
    "\n",
    "# 3. Salvezi clasele în fișier\n",
    "joblib.dump(label_encoder.classes_, CLASSES_PATH)\n",
    "joblib.dump(X.columns.tolist(), \"models/feature_names.pkl\")\n"
   ]
  },
  {
   "cell_type": "code",
   "execution_count": 51,
   "id": "446c1db8-08f0-49b3-8a80-5585e1150255",
   "metadata": {
    "vscode": {
     "languageId": "plaintext"
    }
   },
   "outputs": [
    {
     "name": "stdout",
     "output_type": "stream",
     "text": [
      "Index(['Flow ID', 'Source IP', 'Source Port', 'Destination IP',\n",
      "       'Destination Port', 'Protocol', 'Timestamp', 'Flow Duration',\n",
      "       'Total Fwd Packets', 'Total Backward Packets',\n",
      "       'Total Length of Fwd Packets', 'Total Length of Bwd Packets',\n",
      "       'Fwd Packet Length Max', 'Fwd Packet Length Min',\n",
      "       'Fwd Packet Length Mean', 'Fwd Packet Length Std',\n",
      "       'Bwd Packet Length Max', 'Bwd Packet Length Min',\n",
      "       'Bwd Packet Length Mean', 'Bwd Packet Length Std', 'Flow Bytes/s',\n",
      "       'Flow Packets/s', 'Flow IAT Mean', 'Flow IAT Std', 'Flow IAT Max',\n",
      "       'Flow IAT Min', 'Fwd IAT Total', 'Fwd IAT Mean', 'Fwd IAT Std',\n",
      "       'Fwd IAT Max', 'Fwd IAT Min', 'Bwd IAT Total', 'Bwd IAT Mean',\n",
      "       'Bwd IAT Std', 'Bwd IAT Max', 'Bwd IAT Min', 'Fwd PSH Flags',\n",
      "       'Bwd PSH Flags', 'Fwd URG Flags', 'Bwd URG Flags', 'Fwd Header Length',\n",
      "       'Bwd Header Length', 'Fwd Packets/s', 'Bwd Packets/s',\n",
      "       'Min Packet Length', 'Max Packet Length', 'Packet Length Mean',\n",
      "       'Packet Length Std', 'Packet Length Variance', 'FIN Flag Count',\n",
      "       'SYN Flag Count', 'RST Flag Count', 'PSH Flag Count', 'ACK Flag Count',\n",
      "       'URG Flag Count', 'CWE Flag Count', 'ECE Flag Count', 'Down/Up Ratio',\n",
      "       'Average Packet Size', 'Avg Fwd Segment Size', 'Avg Bwd Segment Size',\n",
      "       'Fwd Header Length.1', 'Fwd Avg Bytes/Bulk', 'Fwd Avg Packets/Bulk',\n",
      "       'Fwd Avg Bulk Rate', 'Bwd Avg Bytes/Bulk', 'Bwd Avg Packets/Bulk',\n",
      "       'Bwd Avg Bulk Rate', 'Subflow Fwd Packets', 'Subflow Fwd Bytes',\n",
      "       'Subflow Bwd Packets', 'Subflow Bwd Bytes', 'Init_Win_bytes_forward',\n",
      "       'Init_Win_bytes_backward', 'act_data_pkt_fwd', 'min_seg_size_forward',\n",
      "       'Active Mean', 'Active Std', 'Active Max', 'Active Min', 'Idle Mean',\n",
      "       'Idle Std', 'Idle Max', 'Idle Min', 'Label'],\n",
      "      dtype='object')\n",
      "Dimensiune df: (225745, 85)\n",
      "Tipul lui y: <class 'numpy.ndarray'>\n",
      "Primele 5 etichete: [0 0 0 0 0]\n"
     ]
    }
   ],
   "source": [
    "# Încarcă și preprocesează CICIDS\n",
    "df = load_cicids_csv(DATA_PATH)\n",
    "df.columns = df.columns.str.strip()\n",
    "\n",
    "print(df.columns)\n",
    "\n",
    "print(\"Dimensiune df:\", df.shape)\n",
    "\n",
    "X, y = preprocess_cicids(df)\n",
    "print(\"Tipul lui y:\", type(y))\n",
    "print(\"Primele 5 etichete:\", y[:5])"
   ]
  },
  {
   "cell_type": "code",
   "execution_count": 52,
   "id": "adf6f41e-4651-417b-90df-411dc8c8e44a",
   "metadata": {
    "vscode": {
     "languageId": "plaintext"
    }
   },
   "outputs": [],
   "source": [
    "X = X.replace([np.inf, -np.inf], np.nan)"
   ]
  },
  {
   "cell_type": "code",
   "execution_count": 53,
   "id": "86a8a686-582e-40e2-a869-fe64f3a4f3e8",
   "metadata": {
    "vscode": {
     "languageId": "plaintext"
    }
   },
   "outputs": [],
   "source": [
    "# Imputarea valorilor lipsă cu mediana\n",
    "imputer = SimpleImputer(strategy='median')\n",
    "X_imputed = imputer.fit_transform(X)"
   ]
  },
  {
   "cell_type": "code",
   "execution_count": 54,
   "id": "31605617-1e1e-43e4-9cb6-5118f11b8b19",
   "metadata": {
    "vscode": {
     "languageId": "plaintext"
    }
   },
   "outputs": [],
   "source": [
    "# Transformă în DataFrame \n",
    "X = pd.DataFrame(X_imputed, columns=X.columns)\n"
   ]
  },
  {
   "cell_type": "code",
   "execution_count": 55,
   "id": "e6a0ea48",
   "metadata": {
    "vscode": {
     "languageId": "plaintext"
    }
   },
   "outputs": [
    {
     "name": "stdout",
     "output_type": "stream",
     "text": [
      "Exemple de labeluri: {np.int64(0), np.int64(1)}\n"
     ]
    }
   ],
   "source": [
    "# Verificare labeluri\n",
    "print(\"Exemple de labeluri:\", set(y))"
   ]
  },
  {
   "cell_type": "code",
   "execution_count": 56,
   "id": "03c68eb1",
   "metadata": {
    "vscode": {
     "languageId": "plaintext"
    }
   },
   "outputs": [],
   "source": [
    "# Obține toate clasele unice – necesar pentru partial_fit inițial\n",
    "classes = sorted(set(y))"
   ]
  },
  {
   "cell_type": "code",
   "execution_count": 57,
   "id": "735b45ff",
   "metadata": {
    "vscode": {
     "languageId": "plaintext"
    }
   },
   "outputs": [],
   "source": [
    "# Antrenează modelul incremental\n",
    "model = train_incremental_model(X, y, classes=classes)"
   ]
  },
  {
   "cell_type": "code",
   "execution_count": 58,
   "id": "d140fe0f",
   "metadata": {
    "vscode": {
     "languageId": "plaintext"
    }
   },
   "outputs": [],
   "source": [
    "# Creează directorul dacă nu există\n",
    "os.makedirs(os.path.dirname(MODEL_OUTPUT_PATH), exist_ok=True)"
   ]
  },
  {
   "cell_type": "code",
   "execution_count": 59,
   "id": "9e436e5c",
   "metadata": {
    "vscode": {
     "languageId": "plaintext"
    }
   },
   "outputs": [],
   "source": [
    "# Salvează modelul\n",
    "save_model(model, MODEL_OUTPUT_PATH)"
   ]
  },
  {
   "cell_type": "code",
   "execution_count": 60,
   "id": "159a7acb",
   "metadata": {
    "vscode": {
     "languageId": "plaintext"
    }
   },
   "outputs": [
    {
     "data": {
      "text/plain": [
       "['../models/label_encoder_cicids.pkl']"
      ]
     },
     "execution_count": 60,
     "metadata": {},
     "output_type": "execute_result"
    }
   ],
   "source": [
    "# Salvează și encoderul labelurilor dacă l-ai folosit separat (aici presupunem că y este deja numeric)\n",
    "joblib.dump(classes, LABEL_ENCODER_PATH)"
   ]
  },
  {
   "cell_type": "code",
   "execution_count": 61,
   "id": "44f06bec",
   "metadata": {
    "vscode": {
     "languageId": "plaintext"
    }
   },
   "outputs": [
    {
     "name": "stdout",
     "output_type": "stream",
     "text": [
      "Modelul antrenat pe CICIDS a fost salvat la: ../models/model_cicids.pt\n"
     ]
    }
   ],
   "source": [
    "print(f\"Modelul antrenat pe CICIDS a fost salvat la: {MODEL_OUTPUT_PATH}\")"
   ]
  },
  {
   "cell_type": "code",
   "execution_count": null,
   "id": "f7f2a2ef-b402-4a7e-828e-7b143717f114",
   "metadata": {},
   "outputs": [],
   "source": []
  }
 ],
 "metadata": {
  "kernelspec": {
   "display_name": "Python 3 (ipykernel)",
   "language": "python",
   "name": "python3"
  },
  "language_info": {
   "codemirror_mode": {
    "name": "ipython",
    "version": 3
   },
   "file_extension": ".py",
   "mimetype": "text/x-python",
   "name": "python",
   "nbconvert_exporter": "python",
   "pygments_lexer": "ipython3",
   "version": "3.12.6"
  }
 },
 "nbformat": 4,
 "nbformat_minor": 5
}
